{
 "cells": [
  {
   "cell_type": "code",
   "execution_count": 1,
   "id": "74c7e138",
   "metadata": {},
   "outputs": [],
   "source": [
    "import bs4\n",
    "import requests\n",
    "import pandas as pd\n",
    "import nltk"
   ]
  },
  {
   "cell_type": "code",
   "execution_count": 2,
   "id": "cffd7e41",
   "metadata": {},
   "outputs": [],
   "source": [
    "URL = \"https://www.marketwatch.com/investing/index/sti?countrycode=sg\""
   ]
  },
  {
   "cell_type": "code",
   "execution_count": 3,
   "id": "40bb58ec",
   "metadata": {},
   "outputs": [],
   "source": [
    "headlines = []\n",
    "dates = []\n",
    "links = []\n",
    "sentiment = []"
   ]
  },
  {
   "cell_type": "code",
   "execution_count": 4,
   "id": "7defd22c",
   "metadata": {},
   "outputs": [
    {
     "name": "stderr",
     "output_type": "stream",
     "text": [
      "[nltk_data] Downloading package vader_lexicon to\n",
      "[nltk_data]     C:\\Users\\hewtu\\AppData\\Roaming\\nltk_data...\n",
      "[nltk_data]   Package vader_lexicon is already up-to-date!\n"
     ]
    }
   ],
   "source": [
    "nltk.download('vader_lexicon')\n",
    "from nltk.sentiment.vader import SentimentIntensityAnalyzer\n",
    "sid = SentimentIntensityAnalyzer()"
   ]
  },
  {
   "cell_type": "code",
   "execution_count": 5,
   "id": "b18a8a38",
   "metadata": {},
   "outputs": [],
   "source": [
    "def extract(url):\n",
    "\n",
    "    result = requests.get(url, \"html.parser\")\n",
    "    soup = bs4.BeautifulSoup(result.text, \"html.parser\")\n",
    "    text = soup.find_all(class_= \"element element--article\")\n",
    "    \n",
    "    for row in text:\n",
    "        try:\n",
    "            headline = row.h3.text.strip()\n",
    "            headlines.append(headline)\n",
    "            \n",
    "            sentiment_score = sid.polarity_scores(headline)['compound']\n",
    "            sentiment.append(sentiment_score)\n",
    "            \n",
    "            \n",
    "        except:\n",
    "            print(\"headline missing\")\n",
    "            headlines.append(None)\n",
    "            sentiment.append(None)\n",
    "        \n",
    "        try:\n",
    "            date = row.find(class_ = \"article__timestamp\")[\"data-est\"]\n",
    "            dates.append(date)\n",
    "        except:\n",
    "            print(\"date missing\")\n",
    "            dates.append(None)\n",
    "            \n",
    "        try:\n",
    "            link = row.find(class_ = \"link\")[\"href\"]\n",
    "            links.append(link)\n",
    "        except:\n",
    "            print(\"link missing\")\n",
    "            links.append(None)"
   ]
  },
  {
   "cell_type": "code",
   "execution_count": 6,
   "id": "72c8ebf7",
   "metadata": {
    "scrolled": true
   },
   "outputs": [
    {
     "name": "stdout",
     "output_type": "stream",
     "text": [
      "date missing\n",
      "date missing\n",
      "date missing\n"
     ]
    }
   ],
   "source": [
    "extract(URL)"
   ]
  },
  {
   "cell_type": "code",
   "execution_count": 7,
   "id": "1211b340",
   "metadata": {},
   "outputs": [],
   "source": [
    "df = pd.DataFrame({\"Headline\": headlines, \"Dates\": dates, \"Links\": links, \"Sentiment score\": sentiment})"
   ]
  },
  {
   "cell_type": "code",
   "execution_count": 8,
   "id": "a07929c8",
   "metadata": {},
   "outputs": [
    {
     "data": {
      "text/html": [
       "<div>\n",
       "<style scoped>\n",
       "    .dataframe tbody tr th:only-of-type {\n",
       "        vertical-align: middle;\n",
       "    }\n",
       "\n",
       "    .dataframe tbody tr th {\n",
       "        vertical-align: top;\n",
       "    }\n",
       "\n",
       "    .dataframe thead th {\n",
       "        text-align: right;\n",
       "    }\n",
       "</style>\n",
       "<table border=\"1\" class=\"dataframe\">\n",
       "  <thead>\n",
       "    <tr style=\"text-align: right;\">\n",
       "      <th></th>\n",
       "      <th>Headline</th>\n",
       "      <th>Dates</th>\n",
       "      <th>Links</th>\n",
       "      <th>Sentiment score</th>\n",
       "    </tr>\n",
       "  </thead>\n",
       "  <tbody>\n",
       "    <tr>\n",
       "      <th>0</th>\n",
       "      <td>Stocks surge in Tokyo, Hong Kong after reassur...</td>\n",
       "      <td>2022-03-17T00:05:00</td>\n",
       "      <td>https://www.marketwatch.com/story/stocks-surge...</td>\n",
       "      <td>0.3612</td>\n",
       "    </tr>\n",
       "    <tr>\n",
       "      <th>1</th>\n",
       "      <td>Asian markets rise ahead of Fed decision on ra...</td>\n",
       "      <td>2022-03-15T23:59:00</td>\n",
       "      <td>https://www.marketwatch.com/story/asian-market...</td>\n",
       "      <td>0.0000</td>\n",
       "    </tr>\n",
       "    <tr>\n",
       "      <th>2</th>\n",
       "      <td>Asian markets sink as Ukraine war, inflation h...</td>\n",
       "      <td>2022-03-10T23:21:00</td>\n",
       "      <td>https://www.marketwatch.com/story/asian-market...</td>\n",
       "      <td>-0.5994</td>\n",
       "    </tr>\n",
       "    <tr>\n",
       "      <th>3</th>\n",
       "      <td>Asian markets surge after oil prices fall, eas...</td>\n",
       "      <td>2022-03-09T23:24:00</td>\n",
       "      <td>https://www.marketwatch.com/story/asian-market...</td>\n",
       "      <td>-0.2023</td>\n",
       "    </tr>\n",
       "    <tr>\n",
       "      <th>4</th>\n",
       "      <td>Asian markets take ‘a breather’ from selloff a...</td>\n",
       "      <td>2022-03-08T23:26:00</td>\n",
       "      <td>https://www.marketwatch.com/story/asian-market...</td>\n",
       "      <td>0.0000</td>\n",
       "    </tr>\n",
       "  </tbody>\n",
       "</table>\n",
       "</div>"
      ],
      "text/plain": [
       "                                            Headline                Dates  \\\n",
       "0  Stocks surge in Tokyo, Hong Kong after reassur...  2022-03-17T00:05:00   \n",
       "1  Asian markets rise ahead of Fed decision on ra...  2022-03-15T23:59:00   \n",
       "2  Asian markets sink as Ukraine war, inflation h...  2022-03-10T23:21:00   \n",
       "3  Asian markets surge after oil prices fall, eas...  2022-03-09T23:24:00   \n",
       "4  Asian markets take ‘a breather’ from selloff a...  2022-03-08T23:26:00   \n",
       "\n",
       "                                               Links  Sentiment score  \n",
       "0  https://www.marketwatch.com/story/stocks-surge...           0.3612  \n",
       "1  https://www.marketwatch.com/story/asian-market...           0.0000  \n",
       "2  https://www.marketwatch.com/story/asian-market...          -0.5994  \n",
       "3  https://www.marketwatch.com/story/asian-market...          -0.2023  \n",
       "4  https://www.marketwatch.com/story/asian-market...           0.0000  "
      ]
     },
     "execution_count": 8,
     "metadata": {},
     "output_type": "execute_result"
    }
   ],
   "source": [
    "df.head()"
   ]
  }
 ],
 "metadata": {
  "kernelspec": {
   "display_name": "Python 3 (ipykernel)",
   "language": "python",
   "name": "python3"
  },
  "language_info": {
   "codemirror_mode": {
    "name": "ipython",
    "version": 3
   },
   "file_extension": ".py",
   "mimetype": "text/x-python",
   "name": "python",
   "nbconvert_exporter": "python",
   "pygments_lexer": "ipython3",
   "version": "3.10.2"
  }
 },
 "nbformat": 4,
 "nbformat_minor": 5
}
